{
 "cells": [
  {
   "cell_type": "code",
   "execution_count": 49,
   "metadata": {},
   "outputs": [],
   "source": [
    "import numpy as np\n",
    "import pandas as pd\n",
    "import matplotlib.pyplot as plt\n",
    "import seaborn as sns\n",
    "from sklearn.preprocessing import MinMaxScaler\n",
    "from sklearn.linear_model import LinearRegression\n",
    "from sklearn.metrics import r2_score,mean_squared_error\n",
    "from sklearn.model_selection import train_test_split\n",
    "import warnings\n",
    "warnings.filterwarnings('ignore')"
   ]
  },
  {
   "cell_type": "code",
   "execution_count": 50,
   "metadata": {},
   "outputs": [],
   "source": [
    "train_df = pd.read_csv('housing_price_prediction/train.csv')\n",
    "val_df = pd.read_csv('housing_price_prediction/validation.csv')  # for test set\n"
   ]
  },
  {
   "cell_type": "code",
   "execution_count": null,
   "metadata": {},
   "outputs": [],
   "source": []
  },
  {
   "cell_type": "code",
   "execution_count": 51,
   "metadata": {},
   "outputs": [],
   "source": [
    "train_df = pd.DataFrame(train_df)\n",
    "val_df = pd.DataFrame(val_df)"
   ]
  },
  {
   "cell_type": "code",
   "execution_count": 52,
   "metadata": {},
   "outputs": [],
   "source": [
    "train_df = train_df.drop('hotwaterheating',axis=1)\n",
    "val_df = val_df.drop('hotwaterheating',axis=1)"
   ]
  },
  {
   "cell_type": "code",
   "execution_count": 53,
   "metadata": {},
   "outputs": [],
   "source": [
    "# train_df.isnull().sum()"
   ]
  },
  {
   "cell_type": "code",
   "execution_count": 54,
   "metadata": {},
   "outputs": [],
   "source": [
    "# val_df.isnull().sum()"
   ]
  },
  {
   "cell_type": "code",
   "execution_count": 55,
   "metadata": {},
   "outputs": [],
   "source": [
    "# val_df.info()"
   ]
  },
  {
   "cell_type": "code",
   "execution_count": 56,
   "metadata": {},
   "outputs": [],
   "source": [
    "# numerical_features = ['area', 'bedrooms', 'bathrooms', 'stories', 'parking','price']\n",
    "# for feature in numerical_features:\n",
    "#     plt.figure(figsize=(6, 3))\n",
    "#     sns.histplot(train_df[feature], kde=True)\n",
    "#     plt.title(f'Distribution of {feature} for training data')\n",
    "#     plt.show()"
   ]
  },
  {
   "cell_type": "code",
   "execution_count": 57,
   "metadata": {},
   "outputs": [],
   "source": [
    "# numerical_features = ['area', 'bedrooms', 'bathrooms', 'stories', 'parking','price']\n",
    "# for feature in numerical_features:\n",
    "#     plt.figure(figsize=(6, 3))\n",
    "#     sns.histplot(val_df[feature], kde=True)\n",
    "#     plt.title(f'Distribution of {feature} for validation data')\n",
    "#     plt.show()"
   ]
  },
  {
   "cell_type": "code",
   "execution_count": 58,
   "metadata": {},
   "outputs": [],
   "source": [
    "# # Plotting the distribution of categorical features\n",
    "# categorical_features = ['mainroad', 'guestroom', 'basement', 'hotwaterheating', 'airconditioning', 'prefarea', 'furnishingstatus']\n",
    "\n",
    "# plt.figure(figsize=(14, 14))\n",
    "# for i, feature in enumerate(categorical_features, 1):\n",
    "#     plt.subplot(4, 2, i)\n",
    "#     sns.countplot(x=feature, data=train_df, palette='viridis')\n",
    "#     plt.title(f'Distribution of {feature}')\n",
    "# plt.tight_layout()\n",
    "# plt.show()\n"
   ]
  },
  {
   "cell_type": "code",
   "execution_count": 59,
   "metadata": {},
   "outputs": [],
   "source": [
    "# Plotting the distribution of categorical features\n",
    "# categorical_features = ['mainroad', 'guestroom', 'basement', 'hotwaterheating', 'airconditioning', 'prefarea', 'furnishingstatus']\n",
    "\n",
    "# plt.figure(figsize=(14, 14))\n",
    "# for i, feature in enumerate(categorical_features, 1):\n",
    "#     plt.subplot(4, 2, i)\n",
    "#     sns.countplot(x=feature, data=val_df, palette='viridis')\n",
    "#     plt.title(f'Distribution of {feature}')\n",
    "# plt.tight_layout()\n",
    "# plt.show()\n"
   ]
  },
  {
   "cell_type": "code",
   "execution_count": 60,
   "metadata": {},
   "outputs": [],
   "source": [
    "# for category in categorical_features:\n",
    "#     print(f\"Number of unique values in {category} = {len(train_df[category].unique())}\")"
   ]
  },
  {
   "cell_type": "code",
   "execution_count": 61,
   "metadata": {},
   "outputs": [],
   "source": [
    "# for category in categorical_features:\n",
    "#     print(f\"Number of unique values in {category} = {len(val_df[category].unique())}\")"
   ]
  },
  {
   "cell_type": "code",
   "execution_count": 62,
   "metadata": {},
   "outputs": [],
   "source": [
    "# train_df_clean = train_df_clean.drop('hotwaterheating', axis=1)"
   ]
  },
  {
   "cell_type": "code",
   "execution_count": 63,
   "metadata": {},
   "outputs": [],
   "source": [
    "numerical_features = train_df.select_dtypes(include=['float64', 'int64']).columns\n",
    "categorical_features = train_df.select_dtypes(include=['object']).columns"
   ]
  },
  {
   "cell_type": "code",
   "execution_count": 64,
   "metadata": {},
   "outputs": [
    {
     "data": {
      "text/html": [
       "<div>\n",
       "<style scoped>\n",
       "    .dataframe tbody tr th:only-of-type {\n",
       "        vertical-align: middle;\n",
       "    }\n",
       "\n",
       "    .dataframe tbody tr th {\n",
       "        vertical-align: top;\n",
       "    }\n",
       "\n",
       "    .dataframe thead th {\n",
       "        text-align: right;\n",
       "    }\n",
       "</style>\n",
       "<table border=\"1\" class=\"dataframe\">\n",
       "  <thead>\n",
       "    <tr style=\"text-align: right;\">\n",
       "      <th></th>\n",
       "      <th>area</th>\n",
       "      <th>bedrooms</th>\n",
       "      <th>bathrooms</th>\n",
       "      <th>stories</th>\n",
       "      <th>parking</th>\n",
       "      <th>price</th>\n",
       "      <th>mainroad_yes</th>\n",
       "      <th>guestroom_yes</th>\n",
       "      <th>basement_yes</th>\n",
       "      <th>airconditioning_yes</th>\n",
       "      <th>prefarea_yes</th>\n",
       "      <th>furnishingstatus_semi-furnished</th>\n",
       "      <th>furnishingstatus_unfurnished</th>\n",
       "    </tr>\n",
       "  </thead>\n",
       "  <tbody>\n",
       "    <tr>\n",
       "      <th>0</th>\n",
       "      <td>9800</td>\n",
       "      <td>4</td>\n",
       "      <td>2</td>\n",
       "      <td>2</td>\n",
       "      <td>2</td>\n",
       "      <td>5250000</td>\n",
       "      <td>True</td>\n",
       "      <td>True</td>\n",
       "      <td>False</td>\n",
       "      <td>False</td>\n",
       "      <td>False</td>\n",
       "      <td>True</td>\n",
       "      <td>False</td>\n",
       "    </tr>\n",
       "    <tr>\n",
       "      <th>1</th>\n",
       "      <td>6540</td>\n",
       "      <td>4</td>\n",
       "      <td>2</td>\n",
       "      <td>2</td>\n",
       "      <td>2</td>\n",
       "      <td>8540000</td>\n",
       "      <td>True</td>\n",
       "      <td>True</td>\n",
       "      <td>True</td>\n",
       "      <td>True</td>\n",
       "      <td>True</td>\n",
       "      <td>False</td>\n",
       "      <td>False</td>\n",
       "    </tr>\n",
       "    <tr>\n",
       "      <th>2</th>\n",
       "      <td>3520</td>\n",
       "      <td>2</td>\n",
       "      <td>1</td>\n",
       "      <td>2</td>\n",
       "      <td>0</td>\n",
       "      <td>4515000</td>\n",
       "      <td>True</td>\n",
       "      <td>False</td>\n",
       "      <td>False</td>\n",
       "      <td>False</td>\n",
       "      <td>True</td>\n",
       "      <td>False</td>\n",
       "      <td>False</td>\n",
       "    </tr>\n",
       "    <tr>\n",
       "      <th>3</th>\n",
       "      <td>8250</td>\n",
       "      <td>3</td>\n",
       "      <td>1</td>\n",
       "      <td>1</td>\n",
       "      <td>0</td>\n",
       "      <td>4480000</td>\n",
       "      <td>True</td>\n",
       "      <td>False</td>\n",
       "      <td>False</td>\n",
       "      <td>False</td>\n",
       "      <td>False</td>\n",
       "      <td>False</td>\n",
       "      <td>False</td>\n",
       "    </tr>\n",
       "    <tr>\n",
       "      <th>4</th>\n",
       "      <td>3180</td>\n",
       "      <td>4</td>\n",
       "      <td>1</td>\n",
       "      <td>2</td>\n",
       "      <td>0</td>\n",
       "      <td>3290000</td>\n",
       "      <td>True</td>\n",
       "      <td>False</td>\n",
       "      <td>True</td>\n",
       "      <td>True</td>\n",
       "      <td>False</td>\n",
       "      <td>False</td>\n",
       "      <td>True</td>\n",
       "    </tr>\n",
       "    <tr>\n",
       "      <th>...</th>\n",
       "      <td>...</td>\n",
       "      <td>...</td>\n",
       "      <td>...</td>\n",
       "      <td>...</td>\n",
       "      <td>...</td>\n",
       "      <td>...</td>\n",
       "      <td>...</td>\n",
       "      <td>...</td>\n",
       "      <td>...</td>\n",
       "      <td>...</td>\n",
       "      <td>...</td>\n",
       "      <td>...</td>\n",
       "      <td>...</td>\n",
       "    </tr>\n",
       "    <tr>\n",
       "      <th>376</th>\n",
       "      <td>3600</td>\n",
       "      <td>2</td>\n",
       "      <td>1</td>\n",
       "      <td>1</td>\n",
       "      <td>0</td>\n",
       "      <td>3675000</td>\n",
       "      <td>True</td>\n",
       "      <td>False</td>\n",
       "      <td>False</td>\n",
       "      <td>False</td>\n",
       "      <td>False</td>\n",
       "      <td>False</td>\n",
       "      <td>False</td>\n",
       "    </tr>\n",
       "    <tr>\n",
       "      <th>377</th>\n",
       "      <td>4320</td>\n",
       "      <td>3</td>\n",
       "      <td>1</td>\n",
       "      <td>2</td>\n",
       "      <td>2</td>\n",
       "      <td>4060000</td>\n",
       "      <td>True</td>\n",
       "      <td>False</td>\n",
       "      <td>False</td>\n",
       "      <td>False</td>\n",
       "      <td>True</td>\n",
       "      <td>False</td>\n",
       "      <td>False</td>\n",
       "    </tr>\n",
       "    <tr>\n",
       "      <th>378</th>\n",
       "      <td>1836</td>\n",
       "      <td>2</td>\n",
       "      <td>1</td>\n",
       "      <td>1</td>\n",
       "      <td>0</td>\n",
       "      <td>2275000</td>\n",
       "      <td>False</td>\n",
       "      <td>False</td>\n",
       "      <td>True</td>\n",
       "      <td>False</td>\n",
       "      <td>False</td>\n",
       "      <td>True</td>\n",
       "      <td>False</td>\n",
       "    </tr>\n",
       "    <tr>\n",
       "      <th>379</th>\n",
       "      <td>15600</td>\n",
       "      <td>3</td>\n",
       "      <td>1</td>\n",
       "      <td>1</td>\n",
       "      <td>2</td>\n",
       "      <td>5943000</td>\n",
       "      <td>True</td>\n",
       "      <td>False</td>\n",
       "      <td>False</td>\n",
       "      <td>True</td>\n",
       "      <td>False</td>\n",
       "      <td>True</td>\n",
       "      <td>False</td>\n",
       "    </tr>\n",
       "    <tr>\n",
       "      <th>380</th>\n",
       "      <td>2880</td>\n",
       "      <td>3</td>\n",
       "      <td>1</td>\n",
       "      <td>2</td>\n",
       "      <td>0</td>\n",
       "      <td>4403000</td>\n",
       "      <td>True</td>\n",
       "      <td>False</td>\n",
       "      <td>False</td>\n",
       "      <td>False</td>\n",
       "      <td>True</td>\n",
       "      <td>True</td>\n",
       "      <td>False</td>\n",
       "    </tr>\n",
       "  </tbody>\n",
       "</table>\n",
       "<p>381 rows × 13 columns</p>\n",
       "</div>"
      ],
      "text/plain": [
       "      area  bedrooms  bathrooms  stories  parking    price  mainroad_yes  \\\n",
       "0     9800         4          2        2        2  5250000          True   \n",
       "1     6540         4          2        2        2  8540000          True   \n",
       "2     3520         2          1        2        0  4515000          True   \n",
       "3     8250         3          1        1        0  4480000          True   \n",
       "4     3180         4          1        2        0  3290000          True   \n",
       "..     ...       ...        ...      ...      ...      ...           ...   \n",
       "376   3600         2          1        1        0  3675000          True   \n",
       "377   4320         3          1        2        2  4060000          True   \n",
       "378   1836         2          1        1        0  2275000         False   \n",
       "379  15600         3          1        1        2  5943000          True   \n",
       "380   2880         3          1        2        0  4403000          True   \n",
       "\n",
       "     guestroom_yes  basement_yes  airconditioning_yes  prefarea_yes  \\\n",
       "0             True         False                False         False   \n",
       "1             True          True                 True          True   \n",
       "2            False         False                False          True   \n",
       "3            False         False                False         False   \n",
       "4            False          True                 True         False   \n",
       "..             ...           ...                  ...           ...   \n",
       "376          False         False                False         False   \n",
       "377          False         False                False          True   \n",
       "378          False          True                False         False   \n",
       "379          False         False                 True         False   \n",
       "380          False         False                False          True   \n",
       "\n",
       "     furnishingstatus_semi-furnished  furnishingstatus_unfurnished  \n",
       "0                               True                         False  \n",
       "1                              False                         False  \n",
       "2                              False                         False  \n",
       "3                              False                         False  \n",
       "4                              False                          True  \n",
       "..                               ...                           ...  \n",
       "376                            False                         False  \n",
       "377                            False                         False  \n",
       "378                             True                         False  \n",
       "379                             True                         False  \n",
       "380                             True                         False  \n",
       "\n",
       "[381 rows x 13 columns]"
      ]
     },
     "execution_count": 64,
     "metadata": {},
     "output_type": "execute_result"
    }
   ],
   "source": [
    "train_df_clean = pd.get_dummies(data=train_df,columns=categorical_features, drop_first=True)\n",
    "train_df_clean"
   ]
  },
  {
   "cell_type": "code",
   "execution_count": 65,
   "metadata": {},
   "outputs": [
    {
     "data": {
      "text/html": [
       "<div>\n",
       "<style scoped>\n",
       "    .dataframe tbody tr th:only-of-type {\n",
       "        vertical-align: middle;\n",
       "    }\n",
       "\n",
       "    .dataframe tbody tr th {\n",
       "        vertical-align: top;\n",
       "    }\n",
       "\n",
       "    .dataframe thead th {\n",
       "        text-align: right;\n",
       "    }\n",
       "</style>\n",
       "<table border=\"1\" class=\"dataframe\">\n",
       "  <thead>\n",
       "    <tr style=\"text-align: right;\">\n",
       "      <th></th>\n",
       "      <th>area</th>\n",
       "      <th>bedrooms</th>\n",
       "      <th>bathrooms</th>\n",
       "      <th>stories</th>\n",
       "      <th>parking</th>\n",
       "      <th>price</th>\n",
       "      <th>mainroad_yes</th>\n",
       "      <th>guestroom_yes</th>\n",
       "      <th>basement_yes</th>\n",
       "      <th>airconditioning_yes</th>\n",
       "      <th>prefarea_yes</th>\n",
       "      <th>furnishingstatus_semi-furnished</th>\n",
       "      <th>furnishingstatus_unfurnished</th>\n",
       "    </tr>\n",
       "  </thead>\n",
       "  <tbody>\n",
       "    <tr>\n",
       "      <th>0</th>\n",
       "      <td>3480</td>\n",
       "      <td>4</td>\n",
       "      <td>1</td>\n",
       "      <td>2</td>\n",
       "      <td>1</td>\n",
       "      <td>3290000</td>\n",
       "      <td>False</td>\n",
       "      <td>False</td>\n",
       "      <td>False</td>\n",
       "      <td>False</td>\n",
       "      <td>False</td>\n",
       "      <td>True</td>\n",
       "      <td>False</td>\n",
       "    </tr>\n",
       "    <tr>\n",
       "      <th>1</th>\n",
       "      <td>2015</td>\n",
       "      <td>3</td>\n",
       "      <td>1</td>\n",
       "      <td>2</td>\n",
       "      <td>0</td>\n",
       "      <td>3850000</td>\n",
       "      <td>True</td>\n",
       "      <td>False</td>\n",
       "      <td>True</td>\n",
       "      <td>False</td>\n",
       "      <td>True</td>\n",
       "      <td>True</td>\n",
       "      <td>False</td>\n",
       "    </tr>\n",
       "    <tr>\n",
       "      <th>2</th>\n",
       "      <td>5400</td>\n",
       "      <td>3</td>\n",
       "      <td>1</td>\n",
       "      <td>1</td>\n",
       "      <td>3</td>\n",
       "      <td>4025000</td>\n",
       "      <td>True</td>\n",
       "      <td>False</td>\n",
       "      <td>False</td>\n",
       "      <td>False</td>\n",
       "      <td>False</td>\n",
       "      <td>True</td>\n",
       "      <td>False</td>\n",
       "    </tr>\n",
       "    <tr>\n",
       "      <th>3</th>\n",
       "      <td>6000</td>\n",
       "      <td>3</td>\n",
       "      <td>2</td>\n",
       "      <td>4</td>\n",
       "      <td>1</td>\n",
       "      <td>7210000</td>\n",
       "      <td>True</td>\n",
       "      <td>True</td>\n",
       "      <td>False</td>\n",
       "      <td>True</td>\n",
       "      <td>False</td>\n",
       "      <td>False</td>\n",
       "      <td>False</td>\n",
       "    </tr>\n",
       "    <tr>\n",
       "      <th>4</th>\n",
       "      <td>2910</td>\n",
       "      <td>3</td>\n",
       "      <td>1</td>\n",
       "      <td>1</td>\n",
       "      <td>0</td>\n",
       "      <td>1750000</td>\n",
       "      <td>False</td>\n",
       "      <td>False</td>\n",
       "      <td>False</td>\n",
       "      <td>False</td>\n",
       "      <td>False</td>\n",
       "      <td>False</td>\n",
       "      <td>False</td>\n",
       "    </tr>\n",
       "    <tr>\n",
       "      <th>...</th>\n",
       "      <td>...</td>\n",
       "      <td>...</td>\n",
       "      <td>...</td>\n",
       "      <td>...</td>\n",
       "      <td>...</td>\n",
       "      <td>...</td>\n",
       "      <td>...</td>\n",
       "      <td>...</td>\n",
       "      <td>...</td>\n",
       "      <td>...</td>\n",
       "      <td>...</td>\n",
       "      <td>...</td>\n",
       "      <td>...</td>\n",
       "    </tr>\n",
       "    <tr>\n",
       "      <th>77</th>\n",
       "      <td>3600</td>\n",
       "      <td>2</td>\n",
       "      <td>1</td>\n",
       "      <td>1</td>\n",
       "      <td>0</td>\n",
       "      <td>3780000</td>\n",
       "      <td>True</td>\n",
       "      <td>False</td>\n",
       "      <td>False</td>\n",
       "      <td>False</td>\n",
       "      <td>False</td>\n",
       "      <td>True</td>\n",
       "      <td>False</td>\n",
       "    </tr>\n",
       "    <tr>\n",
       "      <th>78</th>\n",
       "      <td>6615</td>\n",
       "      <td>3</td>\n",
       "      <td>1</td>\n",
       "      <td>2</td>\n",
       "      <td>0</td>\n",
       "      <td>2940000</td>\n",
       "      <td>True</td>\n",
       "      <td>False</td>\n",
       "      <td>False</td>\n",
       "      <td>False</td>\n",
       "      <td>False</td>\n",
       "      <td>True</td>\n",
       "      <td>False</td>\n",
       "    </tr>\n",
       "    <tr>\n",
       "      <th>79</th>\n",
       "      <td>2640</td>\n",
       "      <td>2</td>\n",
       "      <td>1</td>\n",
       "      <td>1</td>\n",
       "      <td>1</td>\n",
       "      <td>2835000</td>\n",
       "      <td>False</td>\n",
       "      <td>False</td>\n",
       "      <td>False</td>\n",
       "      <td>False</td>\n",
       "      <td>False</td>\n",
       "      <td>False</td>\n",
       "      <td>False</td>\n",
       "    </tr>\n",
       "    <tr>\n",
       "      <th>80</th>\n",
       "      <td>4400</td>\n",
       "      <td>3</td>\n",
       "      <td>1</td>\n",
       "      <td>2</td>\n",
       "      <td>0</td>\n",
       "      <td>2485000</td>\n",
       "      <td>True</td>\n",
       "      <td>False</td>\n",
       "      <td>False</td>\n",
       "      <td>False</td>\n",
       "      <td>False</td>\n",
       "      <td>False</td>\n",
       "      <td>True</td>\n",
       "    </tr>\n",
       "    <tr>\n",
       "      <th>81</th>\n",
       "      <td>3720</td>\n",
       "      <td>2</td>\n",
       "      <td>1</td>\n",
       "      <td>1</td>\n",
       "      <td>0</td>\n",
       "      <td>3360000</td>\n",
       "      <td>False</td>\n",
       "      <td>False</td>\n",
       "      <td>False</td>\n",
       "      <td>True</td>\n",
       "      <td>False</td>\n",
       "      <td>False</td>\n",
       "      <td>True</td>\n",
       "    </tr>\n",
       "  </tbody>\n",
       "</table>\n",
       "<p>82 rows × 13 columns</p>\n",
       "</div>"
      ],
      "text/plain": [
       "    area  bedrooms  bathrooms  stories  parking    price  mainroad_yes  \\\n",
       "0   3480         4          1        2        1  3290000         False   \n",
       "1   2015         3          1        2        0  3850000          True   \n",
       "2   5400         3          1        1        3  4025000          True   \n",
       "3   6000         3          2        4        1  7210000          True   \n",
       "4   2910         3          1        1        0  1750000         False   \n",
       "..   ...       ...        ...      ...      ...      ...           ...   \n",
       "77  3600         2          1        1        0  3780000          True   \n",
       "78  6615         3          1        2        0  2940000          True   \n",
       "79  2640         2          1        1        1  2835000         False   \n",
       "80  4400         3          1        2        0  2485000          True   \n",
       "81  3720         2          1        1        0  3360000         False   \n",
       "\n",
       "    guestroom_yes  basement_yes  airconditioning_yes  prefarea_yes  \\\n",
       "0           False         False                False         False   \n",
       "1           False          True                False          True   \n",
       "2           False         False                False         False   \n",
       "3            True         False                 True         False   \n",
       "4           False         False                False         False   \n",
       "..            ...           ...                  ...           ...   \n",
       "77          False         False                False         False   \n",
       "78          False         False                False         False   \n",
       "79          False         False                False         False   \n",
       "80          False         False                False         False   \n",
       "81          False         False                 True         False   \n",
       "\n",
       "    furnishingstatus_semi-furnished  furnishingstatus_unfurnished  \n",
       "0                              True                         False  \n",
       "1                              True                         False  \n",
       "2                              True                         False  \n",
       "3                             False                         False  \n",
       "4                             False                         False  \n",
       "..                              ...                           ...  \n",
       "77                             True                         False  \n",
       "78                             True                         False  \n",
       "79                            False                         False  \n",
       "80                            False                          True  \n",
       "81                            False                          True  \n",
       "\n",
       "[82 rows x 13 columns]"
      ]
     },
     "execution_count": 65,
     "metadata": {},
     "output_type": "execute_result"
    }
   ],
   "source": [
    "val_df_clean = pd.get_dummies(data=val_df,columns=categorical_features, drop_first=True)\n",
    "val_df_clean"
   ]
  },
  {
   "cell_type": "code",
   "execution_count": null,
   "metadata": {},
   "outputs": [],
   "source": []
  },
  {
   "cell_type": "code",
   "execution_count": 66,
   "metadata": {},
   "outputs": [],
   "source": [
    "\n",
    "# Interaction feature: area * bedrooms\n",
    "train_df_clean['area_bedrooms'] = train_df_clean['area'] * train_df_clean['bedrooms']\n",
    "\n",
    "# Polynomial feature: area squared\n",
    "# train_df_clean['area_squared'] = train_df_clean['area'] ** 2\n",
    "\n",
    "\n",
    "train_df_clean['bathrooms_stories'] = train_df_clean['bathrooms'] * train_df_clean['stories']\n",
    "\n",
    "\n",
    "\n",
    "\n",
    "train_df_clean['total_rooms'] = train_df_clean['bedrooms'] * train_df_clean['bathrooms']\n",
    "\n",
    "\n",
    "\n",
    "# Interaction feature: area * bedrooms\n",
    "val_df_clean['area_bedrooms'] = val_df_clean['area'] * val_df_clean['bedrooms']\n",
    "\n",
    "# Polynomial feature: area squared\n",
    "# val_df_clean['area_squared'] = val_df_clean['area'] ** 2\n",
    "\n",
    "val_df_clean['bathrooms_stories'] = val_df_clean['bathrooms'] * val_df_clean['stories']\n",
    "\n",
    "\n",
    "\n",
    "val_df_clean['total_rooms'] = val_df_clean['bedrooms'] * val_df_clean['bathrooms']\n",
    "\n",
    "\n",
    "\n"
   ]
  },
  {
   "cell_type": "code",
   "execution_count": 67,
   "metadata": {},
   "outputs": [],
   "source": [
    "# numerical_features = train_df_clean.select_dtypes(include=['float64', 'int64']).columns\n",
    "# categorical_features = train_df_clean.select_dtypes(include=['object']).columns\n",
    "# for feature in numerical_features:\n",
    "#     print(f\"skewness of {feature} for train = {train_df_clean[feature].skew()}\")\n",
    "# print(\" \")\n",
    "\n",
    "# for feature in numerical_features:\n",
    "    # print(f\"skewness of {feature} for val = {val_df_clean[feature].skew()}\")"
   ]
  },
  {
   "cell_type": "code",
   "execution_count": 68,
   "metadata": {},
   "outputs": [
    {
     "data": {
      "image/png": "[encoded data removed]",
      "text/plain": [
       "<Figure size 1000x500 with 2 Axes>"
      ]
     },
     "metadata": {},
     "output_type": "display_data"
    },
    {
     "name": "stdout",
     "output_type": "stream",
     "text": [
      "0.040458694488927305\n"
     ]
    },
    {
     "data": {
      "image/png": "[encoded data removed]",
      "text/plain": [
       "<Figure size 1000x500 with 2 Axes>"
      ]
     },
     "metadata": {},
     "output_type": "display_data"
    },
    {
     "name": "stdout",
     "output_type": "stream",
     "text": [
      "0.09374532807415344\n"
     ]
    },
    {
     "data": {
      "image/png": "[encoded data removed]",
      "text/plain": [
       "<Figure size 1000x500 with 2 Axes>"
      ]
     },
     "metadata": {},
     "output_type": "display_data"
    },
    {
     "name": "stdout",
     "output_type": "stream",
     "text": [
      "-0.10397918196191072\n"
     ]
    },
    {
     "data": {
      "image/png": "[encoded data removed]",
      "text/plain": [
       "<Figure size 1000x500 with 2 Axes>"
      ]
     },
     "metadata": {},
     "output_type": "display_data"
    },
    {
     "name": "stdout",
     "output_type": "stream",
     "text": [
      "-0.2392797719979873\n"
     ]
    },
    {
     "data": {
      "image/png": "[encoded data removed]",
      "text/plain": [
       "<Figure size 1000x500 with 2 Axes>"
      ]
     },
     "metadata": {},
     "output_type": "display_data"
    },
    {
     "data": {
      "image/png": "[encoded data removed]",
      "text/plain": [
       "<Figure size 1000x500 with 2 Axes>"
      ]
     },
     "metadata": {},
     "output_type": "display_data"
    }
   ],
   "source": [
    "numerical_features = train_df_clean.select_dtypes(include=['float64', 'int64']).columns\n",
    "categorical_features = train_df_clean.select_dtypes(include=['object']).columns\n",
    "\n",
    "changes = ['area','price','area_bedrooms','bathrooms_stories']\n",
    "\n",
    "for col in changes:\n",
    "\n",
    "    plt.figure(figsize=(10, 5))\n",
    "    plt.subplot(2,2,1)\n",
    "    sns.histplot(data=train_df_clean[col], bins=30, kde=True)\n",
    "\n",
    "\n",
    "    train_df_clean[col] = np.log2(train_df_clean[col])\n",
    "    train_df_clean[col] = np.sqrt(train_df_clean[col])\n",
    " \n",
    "    val_df_clean[col] = np.log2(val_df_clean[col])\n",
    "    val_df_clean[col] = np.sqrt(val_df_clean[col])\n",
    "\n",
    "\n",
    "    plt.subplot(2,2,2)\n",
    "    sns.histplot(data=train_df_clean[col], bins=30, kde=True)\n",
    "    plt.show()\n",
    "\n",
    "\n",
    "    print(train_df_clean[col].skew())\n",
    "\n",
    "\n",
    "changes1 = ['stories','total_rooms']\n",
    "\n",
    "for col in changes1:\n",
    "    plt.figure(figsize=(10, 5))\n",
    "    plt.subplot(2,2,1)\n",
    "    sns.histplot(data=train_df_clean[col], bins=30, kde=True)\n",
    "\n",
    "\n",
    "    from scipy.stats import boxcox\n",
    "    train_df_clean[col],fitted_lambda = boxcox(train_df_clean[col])\n",
    "    val_df_clean[col] = boxcox(val_df_clean[col],fitted_lambda)\n",
    "\n",
    "    plt.subplot(2,2,2)\n",
    "    sns.histplot(data=train_df_clean[col], bins=30, kde=True)\n",
    "    plt.show()\n",
    "\n"
   ]
  },
  {
   "cell_type": "code",
   "execution_count": 69,
   "metadata": {},
   "outputs": [],
   "source": [
    "# for col in train_df_clean[numerical_features]:\n",
    "#     sns.boxplot(data=train_df_clean[col])\n",
    "#     plt.title(f'Boxplot of {col}')\n",
    "#     plt.show()"
   ]
  },
  {
   "cell_type": "code",
   "execution_count": 70,
   "metadata": {},
   "outputs": [],
   "source": [
    "# for col in val_df_clean[numerical_features]:\n",
    "#     sns.boxplot(data=val_df_clean[col])\n",
    "#     plt.title(f'Boxplot of {col}')\n",
    "#     plt.show()"
   ]
  },
  {
   "cell_type": "code",
   "execution_count": 71,
   "metadata": {},
   "outputs": [],
   "source": [
    "def calculate_z_scores(dfa, column):\n",
    "    mean = dfa[column].mean()\n",
    "    std_dev = dfa[column].std()\n",
    "    z_scores = ((dfa[column] - mean) / std_dev).abs()\n",
    "    return z_scores\n",
    "\n",
    "columns_to_check = ['bedrooms','bathrooms_stories','parking']\n",
    "threshold = 3\n",
    "for column in columns_to_check:\n",
    "    z_scores = calculate_z_scores(train_df_clean, column)\n",
    "    train_df_clean = train_df_clean[z_scores < threshold]\n",
    "    \n",
    "for column in columns_to_check:\n",
    "    z_scores = calculate_z_scores(val_df_clean, column)\n",
    "    val_df_clean = val_df_clean[z_scores < threshold]\n",
    "\n",
    "columns = ['bathrooms']\n",
    "for column in columns:\n",
    "    z_scores = calculate_z_scores(train_df_clean, column)\n",
    "    train_df_clean = train_df_clean[z_scores < threshold]\n",
    "    \n",
    "for column in columns_to_check:\n",
    "    z_scores = calculate_z_scores(val_df_clean, column)\n",
    "    val_df_clean = val_df_clean[z_scores < threshold]\n",
    "    \n",
    "\n"
   ]
  },
  {
   "cell_type": "code",
   "execution_count": 72,
   "metadata": {},
   "outputs": [
    {
     "data": {
      "text/html": [
       "<div>\n",
       "<style scoped>\n",
       "    .dataframe tbody tr th:only-of-type {\n",
       "        vertical-align: middle;\n",
       "    }\n",
       "\n",
       "    .dataframe tbody tr th {\n",
       "        vertical-align: top;\n",
       "    }\n",
       "\n",
       "    .dataframe thead th {\n",
       "        text-align: right;\n",
       "    }\n",
       "</style>\n",
       "<table border=\"1\" class=\"dataframe\">\n",
       "  <thead>\n",
       "    <tr style=\"text-align: right;\">\n",
       "      <th></th>\n",
       "      <th>area</th>\n",
       "      <th>bedrooms</th>\n",
       "      <th>bathrooms</th>\n",
       "      <th>stories</th>\n",
       "      <th>parking</th>\n",
       "      <th>price</th>\n",
       "      <th>mainroad_yes</th>\n",
       "      <th>guestroom_yes</th>\n",
       "      <th>basement_yes</th>\n",
       "      <th>airconditioning_yes</th>\n",
       "      <th>prefarea_yes</th>\n",
       "      <th>furnishingstatus_semi-furnished</th>\n",
       "      <th>furnishingstatus_unfurnished</th>\n",
       "      <th>area_bedrooms</th>\n",
       "      <th>bathrooms_stories</th>\n",
       "      <th>total_rooms</th>\n",
       "    </tr>\n",
       "  </thead>\n",
       "  <tbody>\n",
       "    <tr>\n",
       "      <th>0</th>\n",
       "      <td>3.429996</td>\n",
       "      <td>4</td>\n",
       "      <td>1</td>\n",
       "      <td>0.611048</td>\n",
       "      <td>1</td>\n",
       "      <td>4.652919</td>\n",
       "      <td>False</td>\n",
       "      <td>False</td>\n",
       "      <td>False</td>\n",
       "      <td>False</td>\n",
       "      <td>False</td>\n",
       "      <td>True</td>\n",
       "      <td>False</td>\n",
       "      <td>3.710104</td>\n",
       "      <td>1.000000</td>\n",
       "      <td>0.984924</td>\n",
       "    </tr>\n",
       "    <tr>\n",
       "      <th>1</th>\n",
       "      <td>3.313090</td>\n",
       "      <td>3</td>\n",
       "      <td>1</td>\n",
       "      <td>0.611048</td>\n",
       "      <td>0</td>\n",
       "      <td>4.677224</td>\n",
       "      <td>True</td>\n",
       "      <td>False</td>\n",
       "      <td>True</td>\n",
       "      <td>False</td>\n",
       "      <td>True</td>\n",
       "      <td>True</td>\n",
       "      <td>False</td>\n",
       "      <td>3.544224</td>\n",
       "      <td>1.000000</td>\n",
       "      <td>0.834910</td>\n",
       "    </tr>\n",
       "    <tr>\n",
       "      <th>2</th>\n",
       "      <td>3.521185</td>\n",
       "      <td>3</td>\n",
       "      <td>1</td>\n",
       "      <td>0.000000</td>\n",
       "      <td>3</td>\n",
       "      <td>4.684075</td>\n",
       "      <td>True</td>\n",
       "      <td>False</td>\n",
       "      <td>False</td>\n",
       "      <td>False</td>\n",
       "      <td>False</td>\n",
       "      <td>True</td>\n",
       "      <td>False</td>\n",
       "      <td>3.739479</td>\n",
       "      <td>0.000000</td>\n",
       "      <td>0.834910</td>\n",
       "    </tr>\n",
       "    <tr>\n",
       "      <th>3</th>\n",
       "      <td>3.542703</td>\n",
       "      <td>3</td>\n",
       "      <td>2</td>\n",
       "      <td>1.083300</td>\n",
       "      <td>1</td>\n",
       "      <td>4.773004</td>\n",
       "      <td>True</td>\n",
       "      <td>True</td>\n",
       "      <td>False</td>\n",
       "      <td>True</td>\n",
       "      <td>False</td>\n",
       "      <td>False</td>\n",
       "      <td>False</td>\n",
       "      <td>3.759749</td>\n",
       "      <td>1.732051</td>\n",
       "      <td>1.161359</td>\n",
       "    </tr>\n",
       "    <tr>\n",
       "      <th>4</th>\n",
       "      <td>3.392168</td>\n",
       "      <td>3</td>\n",
       "      <td>1</td>\n",
       "      <td>0.000000</td>\n",
       "      <td>0</td>\n",
       "      <td>4.554001</td>\n",
       "      <td>False</td>\n",
       "      <td>False</td>\n",
       "      <td>False</td>\n",
       "      <td>False</td>\n",
       "      <td>False</td>\n",
       "      <td>False</td>\n",
       "      <td>False</td>\n",
       "      <td>3.618255</td>\n",
       "      <td>0.000000</td>\n",
       "      <td>0.834910</td>\n",
       "    </tr>\n",
       "  </tbody>\n",
       "</table>\n",
       "</div>"
      ],
      "text/plain": [
       "       area  bedrooms  bathrooms   stories  parking     price  mainroad_yes  \\\n",
       "0  3.429996         4          1  0.611048        1  4.652919         False   \n",
       "1  3.313090         3          1  0.611048        0  4.677224          True   \n",
       "2  3.521185         3          1  0.000000        3  4.684075          True   \n",
       "3  3.542703         3          2  1.083300        1  4.773004          True   \n",
       "4  3.392168         3          1  0.000000        0  4.554001         False   \n",
       "\n",
       "   guestroom_yes  basement_yes  airconditioning_yes  prefarea_yes  \\\n",
       "0          False         False                False         False   \n",
       "1          False          True                False          True   \n",
       "2          False         False                False         False   \n",
       "3           True         False                 True         False   \n",
       "4          False         False                False         False   \n",
       "\n",
       "   furnishingstatus_semi-furnished  furnishingstatus_unfurnished  \\\n",
       "0                             True                         False   \n",
       "1                             True                         False   \n",
       "2                             True                         False   \n",
       "3                            False                         False   \n",
       "4                            False                         False   \n",
       "\n",
       "   area_bedrooms  bathrooms_stories  total_rooms  \n",
       "0       3.710104           1.000000     0.984924  \n",
       "1       3.544224           1.000000     0.834910  \n",
       "2       3.739479           0.000000     0.834910  \n",
       "3       3.759749           1.732051     1.161359  \n",
       "4       3.618255           0.000000     0.834910  "
      ]
     },
     "execution_count": 72,
     "metadata": {},
     "output_type": "execute_result"
    }
   ],
   "source": [
    "val_df_clean.head()"
   ]
  },
  {
   "cell_type": "code",
   "execution_count": 73,
   "metadata": {},
   "outputs": [],
   "source": [
    "# for feature in numerical_features:\n",
    "#     print(f\"skewness of {feature} for train = {train_df_clean[feature].skew()}\")\n",
    "# print(\" \")\n",
    "# for feature in numerical_features:\n",
    "#     print(f\"skewness of {feature} for val = {val_df_clean[feature].skew()}\")"
   ]
  },
  {
   "cell_type": "code",
   "execution_count": 74,
   "metadata": {},
   "outputs": [],
   "source": [
    "# # Visualization of bathrooms distribution\n",
    "# fig, axes = plt.subplots(1, 2, figsize=(12, 6), sharey=True)\n",
    "# sns.histplot(train_df_clean['bathrooms'], kde=True, ax=axes[0]).set_title('Training Set - Bathrooms')\n",
    "# sns.histplot(val_df_clean['bathrooms'], kde=True, ax=axes[1]).set_title('Validation Set - Bathrooms')\n",
    "# plt.show()"
   ]
  },
  {
   "cell_type": "code",
   "execution_count": 75,
   "metadata": {},
   "outputs": [],
   "source": [
    "# Function to remove outliers\n",
    "# def remove_outliers(df, features):\n",
    "#     for feature in features:\n",
    "#         Q1 = df[feature].quantile(0.25)\n",
    "#         Q3 = df[feature].quantile(0.75)\n",
    "#         IQR = Q3 - Q1\n",
    "#         lower_bound = Q1 - 1.5 * IQR\n",
    "#         upper_bound = Q3 + 1.5 * IQR\n",
    "#         df = df[(df[feature] >= lower_bound) & (df[feature] <= upper_bound)]\n",
    "#     return df"
   ]
  },
  {
   "cell_type": "code",
   "execution_count": 76,
   "metadata": {},
   "outputs": [],
   "source": [
    "# train_df_clean = remove_outliers(train_df_clean, ['area_parking'])\n",
    "# val_df_clean = remove_outliers(val_df_clean, ['area_parking'])"
   ]
  },
  {
   "cell_type": "code",
   "execution_count": 77,
   "metadata": {},
   "outputs": [],
   "source": [
    "train_df_clean = pd.DataFrame(train_df_clean)\n",
    "val_df_clean = pd.DataFrame(val_df_clean)"
   ]
  },
  {
   "cell_type": "code",
   "execution_count": 78,
   "metadata": {},
   "outputs": [
    {
     "data": {
      "text/plain": [
       "area                               0\n",
       "bedrooms                           0\n",
       "bathrooms                          0\n",
       "stories                            0\n",
       "parking                            0\n",
       "price                              0\n",
       "mainroad_yes                       0\n",
       "guestroom_yes                      0\n",
       "basement_yes                       0\n",
       "airconditioning_yes                0\n",
       "prefarea_yes                       0\n",
       "furnishingstatus_semi-furnished    0\n",
       "furnishingstatus_unfurnished       0\n",
       "area_bedrooms                      0\n",
       "bathrooms_stories                  0\n",
       "total_rooms                        0\n",
       "dtype: int64"
      ]
     },
     "execution_count": 78,
     "metadata": {},
     "output_type": "execute_result"
    }
   ],
   "source": [
    "train_df_clean.isnull().sum()"
   ]
  },
  {
   "cell_type": "code",
   "execution_count": 79,
   "metadata": {},
   "outputs": [
    {
     "data": {
      "text/html": [
       "<div>\n",
       "<style scoped>\n",
       "    .dataframe tbody tr th:only-of-type {\n",
       "        vertical-align: middle;\n",
       "    }\n",
       "\n",
       "    .dataframe tbody tr th {\n",
       "        vertical-align: top;\n",
       "    }\n",
       "\n",
       "    .dataframe thead th {\n",
       "        text-align: right;\n",
       "    }\n",
       "</style>\n",
       "<table border=\"1\" class=\"dataframe\">\n",
       "  <thead>\n",
       "    <tr style=\"text-align: right;\">\n",
       "      <th></th>\n",
       "      <th>area</th>\n",
       "      <th>bedrooms</th>\n",
       "      <th>bathrooms</th>\n",
       "      <th>stories</th>\n",
       "      <th>parking</th>\n",
       "      <th>price</th>\n",
       "      <th>mainroad_yes</th>\n",
       "      <th>guestroom_yes</th>\n",
       "      <th>basement_yes</th>\n",
       "      <th>airconditioning_yes</th>\n",
       "      <th>prefarea_yes</th>\n",
       "      <th>furnishingstatus_semi-furnished</th>\n",
       "      <th>furnishingstatus_unfurnished</th>\n",
       "      <th>area_bedrooms</th>\n",
       "      <th>bathrooms_stories</th>\n",
       "      <th>total_rooms</th>\n",
       "    </tr>\n",
       "  </thead>\n",
       "  <tbody>\n",
       "    <tr>\n",
       "      <th>0</th>\n",
       "      <td>3.429996</td>\n",
       "      <td>4</td>\n",
       "      <td>1</td>\n",
       "      <td>0.611048</td>\n",
       "      <td>1</td>\n",
       "      <td>4.652919</td>\n",
       "      <td>False</td>\n",
       "      <td>False</td>\n",
       "      <td>False</td>\n",
       "      <td>False</td>\n",
       "      <td>False</td>\n",
       "      <td>True</td>\n",
       "      <td>False</td>\n",
       "      <td>3.710104</td>\n",
       "      <td>1.000000</td>\n",
       "      <td>0.984924</td>\n",
       "    </tr>\n",
       "    <tr>\n",
       "      <th>1</th>\n",
       "      <td>3.313090</td>\n",
       "      <td>3</td>\n",
       "      <td>1</td>\n",
       "      <td>0.611048</td>\n",
       "      <td>0</td>\n",
       "      <td>4.677224</td>\n",
       "      <td>True</td>\n",
       "      <td>False</td>\n",
       "      <td>True</td>\n",
       "      <td>False</td>\n",
       "      <td>True</td>\n",
       "      <td>True</td>\n",
       "      <td>False</td>\n",
       "      <td>3.544224</td>\n",
       "      <td>1.000000</td>\n",
       "      <td>0.834910</td>\n",
       "    </tr>\n",
       "    <tr>\n",
       "      <th>2</th>\n",
       "      <td>3.521185</td>\n",
       "      <td>3</td>\n",
       "      <td>1</td>\n",
       "      <td>0.000000</td>\n",
       "      <td>3</td>\n",
       "      <td>4.684075</td>\n",
       "      <td>True</td>\n",
       "      <td>False</td>\n",
       "      <td>False</td>\n",
       "      <td>False</td>\n",
       "      <td>False</td>\n",
       "      <td>True</td>\n",
       "      <td>False</td>\n",
       "      <td>3.739479</td>\n",
       "      <td>0.000000</td>\n",
       "      <td>0.834910</td>\n",
       "    </tr>\n",
       "    <tr>\n",
       "      <th>3</th>\n",
       "      <td>3.542703</td>\n",
       "      <td>3</td>\n",
       "      <td>2</td>\n",
       "      <td>1.083300</td>\n",
       "      <td>1</td>\n",
       "      <td>4.773004</td>\n",
       "      <td>True</td>\n",
       "      <td>True</td>\n",
       "      <td>False</td>\n",
       "      <td>True</td>\n",
       "      <td>False</td>\n",
       "      <td>False</td>\n",
       "      <td>False</td>\n",
       "      <td>3.759749</td>\n",
       "      <td>1.732051</td>\n",
       "      <td>1.161359</td>\n",
       "    </tr>\n",
       "    <tr>\n",
       "      <th>4</th>\n",
       "      <td>3.392168</td>\n",
       "      <td>3</td>\n",
       "      <td>1</td>\n",
       "      <td>0.000000</td>\n",
       "      <td>0</td>\n",
       "      <td>4.554001</td>\n",
       "      <td>False</td>\n",
       "      <td>False</td>\n",
       "      <td>False</td>\n",
       "      <td>False</td>\n",
       "      <td>False</td>\n",
       "      <td>False</td>\n",
       "      <td>False</td>\n",
       "      <td>3.618255</td>\n",
       "      <td>0.000000</td>\n",
       "      <td>0.834910</td>\n",
       "    </tr>\n",
       "  </tbody>\n",
       "</table>\n",
       "</div>"
      ],
      "text/plain": [
       "       area  bedrooms  bathrooms   stories  parking     price  mainroad_yes  \\\n",
       "0  3.429996         4          1  0.611048        1  4.652919         False   \n",
       "1  3.313090         3          1  0.611048        0  4.677224          True   \n",
       "2  3.521185         3          1  0.000000        3  4.684075          True   \n",
       "3  3.542703         3          2  1.083300        1  4.773004          True   \n",
       "4  3.392168         3          1  0.000000        0  4.554001         False   \n",
       "\n",
       "   guestroom_yes  basement_yes  airconditioning_yes  prefarea_yes  \\\n",
       "0          False         False                False         False   \n",
       "1          False          True                False          True   \n",
       "2          False         False                False         False   \n",
       "3           True         False                 True         False   \n",
       "4          False         False                False         False   \n",
       "\n",
       "   furnishingstatus_semi-furnished  furnishingstatus_unfurnished  \\\n",
       "0                             True                         False   \n",
       "1                             True                         False   \n",
       "2                             True                         False   \n",
       "3                            False                         False   \n",
       "4                            False                         False   \n",
       "\n",
       "   area_bedrooms  bathrooms_stories  total_rooms  \n",
       "0       3.710104           1.000000     0.984924  \n",
       "1       3.544224           1.000000     0.834910  \n",
       "2       3.739479           0.000000     0.834910  \n",
       "3       3.759749           1.732051     1.161359  \n",
       "4       3.618255           0.000000     0.834910  "
      ]
     },
     "execution_count": 79,
     "metadata": {},
     "output_type": "execute_result"
    }
   ],
   "source": [
    "val_df_clean.head()"
   ]
  },
  {
   "cell_type": "code",
   "execution_count": 80,
   "metadata": {},
   "outputs": [],
   "source": [
    "# train_df_clean = train_df_clean.drop('hotwaterheating',axis=1)\n",
    "# val_df_clean = val_df_clean.drop('hotwaterheating',axis=1)"
   ]
  },
  {
   "cell_type": "code",
   "execution_count": 81,
   "metadata": {},
   "outputs": [
    {
     "name": "stdout",
     "output_type": "stream",
     "text": [
      "Dimension of feature matrix: (371, 15)\n",
      "Dimension of label vector: (371,)\n"
     ]
    }
   ],
   "source": [
    "X_train = train_df_clean.drop('price', axis=1).values\n",
    "y_train = train_df_clean['price'].values\n",
    "print(f\"Dimension of feature matrix: {X_train.shape}\")\n",
    "print(f\"Dimension of label vector: {y_train.shape}\")"
   ]
  },
  {
   "cell_type": "code",
   "execution_count": 82,
   "metadata": {},
   "outputs": [
    {
     "name": "stdout",
     "output_type": "stream",
     "text": [
      "Dimension of feature matrix: (82, 15)\n",
      "Dimension of label vector: (82,)\n"
     ]
    }
   ],
   "source": [
    "X_val = val_df_clean.drop('price', axis=1).values\n",
    "y_val = val_df_clean['price'].values\n",
    "print(f\"Dimension of feature matrix: {X_val.shape}\")\n",
    "print(f\"Dimension of label vector: {y_val.shape}\")"
   ]
  },
  {
   "cell_type": "code",
   "execution_count": null,
   "metadata": {},
   "outputs": [],
   "source": []
  },
  {
   "cell_type": "code",
   "execution_count": 83,
   "metadata": {},
   "outputs": [],
   "source": [
    "y_train = y_train.reshape(-1,1)\n",
    "y_val = y_val.reshape(-1,1)"
   ]
  },
  {
   "cell_type": "code",
   "execution_count": 84,
   "metadata": {},
   "outputs": [
    {
     "data": {
      "text/plain": [
       "Index(['area', 'bedrooms', 'bathrooms', 'stories', 'parking', 'price',\n",
       "       'mainroad_yes', 'guestroom_yes', 'basement_yes', 'airconditioning_yes',\n",
       "       'prefarea_yes', 'furnishingstatus_semi-furnished',\n",
       "       'furnishingstatus_unfurnished', 'area_bedrooms', 'bathrooms_stories',\n",
       "       'total_rooms'],\n",
       "      dtype='object')"
      ]
     },
     "execution_count": 84,
     "metadata": {},
     "output_type": "execute_result"
    }
   ],
   "source": [
    "train_df_clean.columns"
   ]
  },
  {
   "cell_type": "code",
   "execution_count": 85,
   "metadata": {},
   "outputs": [
    {
     "data": {
      "text/plain": [
       "Index(['area', 'bedrooms', 'bathrooms', 'stories', 'parking', 'price',\n",
       "       'mainroad_yes', 'guestroom_yes', 'basement_yes', 'airconditioning_yes',\n",
       "       'prefarea_yes', 'furnishingstatus_semi-furnished',\n",
       "       'furnishingstatus_unfurnished', 'area_bedrooms', 'bathrooms_stories',\n",
       "       'total_rooms'],\n",
       "      dtype='object')"
      ]
     },
     "execution_count": 85,
     "metadata": {},
     "output_type": "execute_result"
    }
   ],
   "source": [
    "val_df_clean.columns"
   ]
  },
  {
   "cell_type": "code",
   "execution_count": 86,
   "metadata": {},
   "outputs": [],
   "source": [
    "from sklearn.preprocessing import StandardScaler\n",
    "\n",
    "sscaler = StandardScaler()\n",
    "X_train_scaled = sscaler.fit_transform(X_train)\n",
    "X_val_scaled = sscaler.transform(X_val)\n",
    "\n",
    "import pickle\n",
    "with open('scaler.pkl' ,'wb') as file:\n",
    "    pickle.dump(sscaler,file)"
   ]
  },
  {
   "cell_type": "code",
   "execution_count": 87,
   "metadata": {},
   "outputs": [],
   "source": [
    "import evaluation"
   ]
  },
  {
   "cell_type": "code",
   "execution_count": 88,
   "metadata": {},
   "outputs": [
    {
     "name": "stdout",
     "output_type": "stream",
     "text": [
      "MAE: 0.0237\n",
      "MSE: 0.0008\n",
      "RMSE: 0.0285\n",
      "R2: 0.7005\n"
     ]
    }
   ],
   "source": [
    "\n",
    "from sklearn import metrics\n",
    "from sklearn.linear_model import LinearRegression\n",
    "from sklearn.tree import DecisionTreeRegressor\n",
    "from sklearn.ensemble import RandomForestRegressor, GradientBoostingRegressor\n",
    "from sklearn.metrics import mean_squared_error\n",
    "\n",
    "\n",
    "\n",
    "linear_model = LinearRegression()\n",
    "linear_model.fit(X_train_scaled, y_train)\n",
    "y_pred_train = linear_model.predict(X_train_scaled)\n",
    "y_pred_val = linear_model.predict(X_val_scaled)\n",
    "metrics = evaluation.evaluate_predictions(y_val, y_pred_val)\n",
    "for metric, value in metrics.items():\n",
    "    print(f\"{metric}: {value:.4f}\")"
   ]
  },
  {
   "cell_type": "code",
   "execution_count": 89,
   "metadata": {},
   "outputs": [
    {
     "name": "stdout",
     "output_type": "stream",
     "text": [
      "MAE: 0.0254\n",
      "MSE: 0.0010\n",
      "RMSE: 0.0318\n",
      "R2: 0.6275\n"
     ]
    }
   ],
   "source": [
    "\n",
    "from sklearn.ensemble import VotingRegressor,AdaBoostRegressor\n",
    "\n",
    "# Initialize models\n",
    "gbr = GradientBoostingRegressor(random_state=42, n_estimators=200, learning_rate=0.1, max_depth=5, subsample=0.9)\n",
    "abr = AdaBoostRegressor(random_state=42, n_estimators=200, learning_rate=0.1)\n",
    "rf = RandomForestRegressor(n_estimators=300)\n",
    "# Combine models using VotingRegressor\n",
    "voting_regressor = VotingRegressor([('gbr', gbr), ('abr', abr),('rf',rf)])\n",
    "\n",
    "# Train and evaluate the ensemble model\n",
    "voting_regressor.fit(X_train_scaled, y_train)\n",
    "y_train_pred = voting_regressor.predict(X_train_scaled)\n",
    "y_val_pred = voting_regressor.predict(X_val_scaled)\n",
    "\n",
    "metrics = evaluation.evaluate_predictions(y_val, y_val_pred)\n",
    "for metric, value in metrics.items():\n",
    "    print(f\"{metric}: {value:.4f}\")"
   ]
  },
  {
   "cell_type": "code",
   "execution_count": 90,
   "metadata": {},
   "outputs": [
    {
     "name": "stdout",
     "output_type": "stream",
     "text": [
      "MAE: 0.0239\n",
      "MSE: 0.0009\n",
      "RMSE: 0.0307\n",
      "R2: 0.6512\n"
     ]
    }
   ],
   "source": [
    "from sklearn.neighbors import KNeighborsRegressor\n",
    "knn = KNeighborsRegressor(n_neighbors=5)\n",
    "knn.fit(X_train_scaled,y_train)\n",
    "y_pred_train_knn = knn.predict(X_train_scaled)\n",
    "y_pred_val_knn = knn.predict(X_val_scaled)\n",
    "metrics = evaluation.evaluate_predictions(y_val, y_pred_val_knn)\n",
    "for metric, value in metrics.items():\n",
    "    print(f\"{metric}: {value:.4f}\")"
   ]
  },
  {
   "cell_type": "code",
   "execution_count": 91,
   "metadata": {},
   "outputs": [
    {
     "name": "stdout",
     "output_type": "stream",
     "text": [
      "MAE: 0.0248\n",
      "MSE: 0.0011\n",
      "RMSE: 0.0325\n",
      "R2: 0.6111\n"
     ]
    }
   ],
   "source": [
    "from sklearn.ensemble import GradientBoostingRegressor\n",
    "\n",
    "# Initialize and train Gradient Boosting model\n",
    "gb_model = GradientBoostingRegressor()\n",
    "gb_model.fit(X_train_scaled, y_train)\n",
    "\n",
    "# Make predictions and evaluate\n",
    "y_pred = gb_model.predict(X_train_scaled)\n",
    "y_pred_gb = gb_model.predict(X_val_scaled)\n",
    "mse_gb = mean_squared_error(y_val, y_pred_gb)\n",
    "metrics = evaluation.evaluate_predictions(y_val, y_pred_gb)\n",
    "for metric, value in metrics.items():\n",
    "    print(f\"{metric}: {value:.4f}\")"
   ]
  },
  {
   "cell_type": "code",
   "execution_count": 92,
   "metadata": {},
   "outputs": [
    {
     "name": "stdout",
     "output_type": "stream",
     "text": [
      "MAE: 0.0240\n",
      "MSE: 0.0008\n",
      "RMSE: 0.0287\n",
      "R2: 0.6954\n"
     ]
    }
   ],
   "source": [
    "from sklearn.linear_model import Ridge\n",
    "ridge = Ridge()\n",
    "ridge.fit(X_train_scaled,y_train)\n",
    "ridge_y_pred = ridge.predict(X_val_scaled)\n",
    "metrics = evaluation.evaluate_predictions(y_val, ridge_y_pred)\n",
    "for metric, value in metrics.items():\n",
    "    print(f\"{metric}: {value:.4f}\")"
   ]
  },
  {
   "cell_type": "code",
   "execution_count": 93,
   "metadata": {},
   "outputs": [
    {
     "name": "stdout",
     "output_type": "stream",
     "text": [
      "Model saved as 'linear_model.pkl'\n"
     ]
    }
   ],
   "source": [
    "# Save the model to a pickle file\n",
    "import pickle\n",
    "with open('linear_model.pkl', 'wb') as file:\n",
    "    pickle.dump(linear_model, file)\n",
    "\n",
    "print(\"Model saved as 'linear_model.pkl'\")"
   ]
  },
  {
   "cell_type": "code",
   "execution_count": 94,
   "metadata": {},
   "outputs": [
    {
     "name": "stdout",
     "output_type": "stream",
     "text": [
      "Model saved as 'ridge_model.pkl'\n"
     ]
    }
   ],
   "source": [
    "with open('ridge_model.pkl', 'wb') as file:\n",
    "    pickle.dump(ridge, file)\n",
    "\n",
    "print(\"Model saved as 'ridge_model.pkl'\")"
   ]
  },
  {
   "cell_type": "code",
   "execution_count": null,
   "metadata": {},
   "outputs": [],
   "source": []
  }
 ],
 "metadata": {
  "kernelspec": {
   "display_name": "Python 3",
   "language": "python",
   "name": "python3"
  },
  "language_info": {
   "codemirror_mode": {
    "name": "ipython",
    "version": 3
   },
   "file_extension": ".py",
   "mimetype": "text/x-python",
   "name": "python",
   "nbconvert_exporter": "python",
   "pygments_lexer": "ipython3",
   "version": "3.11.1"
  }
 },
 "nbformat": 4,
 "nbformat_minor": 2
}

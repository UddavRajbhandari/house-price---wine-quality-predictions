{
 "cells": [
  {
   "cell_type": "code",
   "execution_count": 480,
   "metadata": {},
   "outputs": [],
   "source": [
    "import pandas as pd\n",
    "import numpy as np\n",
    "import warnings\n",
    "warnings.filterwarnings(\"ignore\")"
   ]
  },
  {
   "cell_type": "code",
   "execution_count": 481,
   "metadata": {},
   "outputs": [],
   "source": [
    "df = pd.read_csv(\"wine_classification/wine-test-set.csv\")\n",
    "df = pd.DataFrame(df)"
   ]
  },
  {
   "cell_type": "code",
   "execution_count": 482,
   "metadata": {},
   "outputs": [],
   "source": [
    "df['quality'] = df['quality'].apply(lambda x:1 if x>=6 else 0)\n",
    "df = df.dropna(subset=['quality'])"
   ]
  },
  {
   "cell_type": "code",
   "execution_count": 483,
   "metadata": {},
   "outputs": [],
   "source": [
    "df['fixed_density'] = df['fixed acidity'] * df['density']\n",
    "df['free_total_sulfur'] = df['free sulfur dioxide'] * df['total sulfur dioxide']\n",
    "df['fixed_pH'] = df['fixed acidity'] * df['pH']\n",
    "df['citric_acidity'] = df['citric acid'] * df['fixed acidity']\n",
    "\n",
    "df = df.drop(['citric acid' , 'density' , 'fixed acidity' , 'pH' , 'total sulfur dioxide' , 'free sulfur dioxide' ] , axis =1)\n"
   ]
  },
  {
   "cell_type": "code",
   "execution_count": 484,
   "metadata": {},
   "outputs": [],
   "source": [
    "changes = ['residual sugar'  , 'alcohol' , 'free_total_sulfur' , 'fixed_density' , 'fixed_pH','citric_acidity']\n",
    "\n",
    "for col in changes:\n",
    "    df[col] = np.log2(df[col])\n",
    "    df[col] = np.sqrt(df[col])\n",
    "\n",
    "changes1 = ['sulphates' , 'chlorides']\n",
    "\n",
    "for col in changes1:\n",
    "    from scipy.stats import boxcox\n",
    "    df[col],_ = boxcox(df[col])"
   ]
  },
  {
   "cell_type": "code",
   "execution_count": 485,
   "metadata": {},
   "outputs": [],
   "source": [
    "def calculate_z_scores(dfa, column):\n",
    "    mean = dfa[column].mean()\n",
    "    std_dev = dfa[column].std()\n",
    "    z_scores = ((dfa[column] - mean) / std_dev).abs()\n",
    "    return z_scores\n",
    "\n",
    "columns_to_check = ['volatile acidity' ,'residual sugar', 'chlorides' , 'fixed_density','citric_acidity']\n",
    "threshold = 3\n",
    "for column in columns_to_check:\n",
    "    z_scores = calculate_z_scores(df, column)\n",
    "    df = df[z_scores < threshold]\n",
    "    "
   ]
  },
  {
   "cell_type": "code",
   "execution_count": 486,
   "metadata": {},
   "outputs": [],
   "source": [
    "def impute_outliers(df, column):\n",
    "    Q1 = df[column].quantile(0.2)\n",
    "    Q3 = df[column].quantile(0.8)\n",
    "    IQR = Q3 - Q1\n",
    "    lower_bound = Q1 - 1.5 * IQR\n",
    "    upper_bound = Q3 + 1.5 * IQR\n",
    "    median = df[column].mean()\n",
    "    df[column] = np.where((df[column] < lower_bound) | (df[column] > upper_bound), median, df[column])\n",
    "    return df\n",
    "\n",
    "columns_to_check = ['chlorides','residual sugar']\n",
    "\n",
    "for column in columns_to_check:\n",
    "    df = impute_outliers(df, column)"
   ]
  },
  {
   "cell_type": "code",
   "execution_count": 487,
   "metadata": {},
   "outputs": [],
   "source": [
    "import pickle\n",
    "with open('wine_quality_gradient.pkl','rb') as file:\n",
    "    gradient_boost = pickle.load(file)\n",
    "    \n",
    "with open('scaler_q.pkl','rb') as file:\n",
    "    scaler = pickle.load(file)"
   ]
  },
  {
   "cell_type": "code",
   "execution_count": 488,
   "metadata": {},
   "outputs": [],
   "source": [
    "from sklearn.preprocessing import MinMaxScaler\n",
    "\n",
    "# Creating an instance of MinMaxScaler with default range [0, 1]\n",
    "scalers = MinMaxScaler()\n",
    "\n",
    "# Selecting the specific features to scale\n",
    "features_to_scale = ['chlorides', 'sulphates']\n",
    "\n",
    "# Fitting the scaler and transforming the data\n",
    "df[features_to_scale] = scalers.fit_transform(df[features_to_scale])\n",
    "\n",
    "df['quality'] = le.transform(df['quality'])"
   ]
  },
  {
   "cell_type": "code",
   "execution_count": 489,
   "metadata": {},
   "outputs": [],
   "source": [
    "X_test = df.drop('quality',axis=1).values\n",
    "y_test = df['quality'].values"
   ]
  },
  {
   "cell_type": "code",
   "execution_count": 490,
   "metadata": {},
   "outputs": [],
   "source": [
    "X_test_scaled = scaler.transform(X_test)\n"
   ]
  },
  {
   "cell_type": "code",
   "execution_count": 491,
   "metadata": {},
   "outputs": [
    {
     "name": "stdout",
     "output_type": "stream",
     "text": [
      "[0 1 1 0 1 1 1 0 0 1 0 1 0 1 0 0 0 1 1 1 0 1 1 1 1 1 1 1 0 0 0 1 1 1 1 1 1\n",
      " 0 1 1 1 1 0 1 1 1 0 0 1 0 1 0 0 1 1 1 1 0 1 0 1 1 0 1 1 1 1 0 1 0 1 1 0 0\n",
      " 1 1 0 1 1 0 1 1 0 0 1 0 0 1 1 1 1 1 1 1 1 0 0 0 1 1 0 0 1 1 1 1 0 0 0 0 1\n",
      " 1 1 1 0 1 1 1 1 1 1 1 1 0 0 1 0 0 0 1 1 1 0 1 1 1 1 1 0 0 0 0 0 1 1 1 0 1\n",
      " 1 0 1 0 0 1 0 1 1 1 1 1 1 1 1 1 0 1 1 0 1 1 0 0 1 1 1 1 1 1 0 1 1 0 1 1 0\n",
      " 1 1 1 0 0 1 1 0 0 0 1 1 0 0 0 0 1 1 1 0 1 0 1 1]\n"
     ]
    }
   ],
   "source": [
    "predictions = gradient_boost.predict(X_test_scaled)\n",
    "print(predictions) # quality was change to binary classification"
   ]
  },
  {
   "cell_type": "code",
   "execution_count": 492,
   "metadata": {},
   "outputs": [
    {
     "name": "stdout",
     "output_type": "stream",
     "text": [
      "Accuracy: 0.7225\n",
      "Precision: 0.7271\n",
      "Recall: 0.7225\n",
      "F1 Score: 0.7179\n",
      "Confusion Matrix:\n",
      "[[58 39]\n",
      " [19 93]]\n"
     ]
    }
   ],
   "source": [
    "\n",
    "import evaluation\n",
    "metrics = evaluation.evaluate_classification(y_test,predictions)\n",
    "for metric, value in metrics.items():\n",
    "    if metric != 'Confusion Matrix':\n",
    "        print(f\"{metric}: {value:.4f}\")\n",
    "    else:\n",
    "        print(f\"{metric}:\\n{value}\")"
   ]
  }
 ],
 "metadata": {
  "kernelspec": {
   "display_name": "Python 3",
   "language": "python",
   "name": "python3"
  },
  "language_info": {
   "codemirror_mode": {
    "name": "ipython",
    "version": 3
   },
   "file_extension": ".py",
   "mimetype": "text/x-python",
   "name": "python",
   "nbconvert_exporter": "python",
   "pygments_lexer": "ipython3",
   "version": "3.11.1"
  }
 },
 "nbformat": 4,
 "nbformat_minor": 2
}

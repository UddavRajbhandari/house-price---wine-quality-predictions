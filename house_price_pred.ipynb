{
 "cells": [
  {
   "cell_type": "code",
   "execution_count": 361,
   "metadata": {},
   "outputs": [],
   "source": [
    "import pickle\n",
    "import numpy as np\n",
    "import pandas as pd"
   ]
  },
  {
   "cell_type": "code",
   "execution_count": 362,
   "metadata": {},
   "outputs": [],
   "source": [
    "\n",
    "test_df = pd.read_csv('housing_price_prediction/housing-test-set.csv')  # Load the test dataset\n",
    "test_df.head()\n",
    "test_df = pd.DataFrame(test_df)"
   ]
  },
  {
   "cell_type": "code",
   "execution_count": 363,
   "metadata": {},
   "outputs": [],
   "source": [
    "\n",
    "numerical_features = test_df.select_dtypes(include=['float64', 'int64']).columns\n",
    "categorical_features = test_df.select_dtypes(include=['object']).columns"
   ]
  },
  {
   "cell_type": "code",
   "execution_count": 364,
   "metadata": {},
   "outputs": [],
   "source": [
    "test_df_clean = pd.get_dummies(data=test_df,columns=categorical_features, drop_first=True)"
   ]
  },
  {
   "cell_type": "code",
   "execution_count": 365,
   "metadata": {},
   "outputs": [],
   "source": [
    "\n",
    "test_df_clean['area_bedrooms'] = test_df_clean['area'] * test_df_clean['bedrooms']\n",
    "test_df_clean['bathrooms_stories'] = test_df_clean['bathrooms'] * test_df_clean['stories']\n",
    "test_df_clean['total_rooms'] = test_df_clean['bedrooms'] * test_df_clean['bathrooms']"
   ]
  },
  {
   "cell_type": "code",
   "execution_count": 366,
   "metadata": {},
   "outputs": [],
   "source": [
    "\n",
    "numerical_features = test_df_clean.select_dtypes(include=['float64', 'int64']).columns\n",
    "categorical_features = test_df_clean.select_dtypes(include=['object']).columns\n",
    "\n",
    "changes = ['area','price','area_bedrooms','bathrooms_stories']\n",
    "\n",
    "for col in changes:\n",
    "    test_df_clean[col] = np.log2(test_df_clean[col])\n",
    "    test_df_clean[col] = np.sqrt(test_df_clean[col])\n",
    " \n",
    "changes1 = ['stories','total_rooms']\n",
    "for col in changes1:\n",
    "    from scipy.stats import boxcox\n",
    "    test_df_clean[col],_ = boxcox(test_df_clean[col])"
   ]
  },
  {
   "cell_type": "code",
   "execution_count": 367,
   "metadata": {},
   "outputs": [],
   "source": [
    "def calculate_z_scores(dfa, column):\n",
    "    mean = dfa[column].mean()\n",
    "    std_dev = dfa[column].std()\n",
    "    z_scores = ((dfa[column] - mean) / std_dev).abs()\n",
    "    return z_scores\n",
    "\n",
    "columns_to_check = ['bedrooms','bathrooms_stories','parking']\n",
    "threshold = 3\n",
    "for column in columns_to_check:\n",
    "    z_scores = calculate_z_scores(test_df_clean, column)\n",
    "    test_df_clean = test_df_clean[z_scores < threshold]\n",
    "\n"
   ]
  },
  {
   "cell_type": "code",
   "execution_count": 368,
   "metadata": {},
   "outputs": [],
   "source": [
    "# Load the saved model and scaler\n",
    "\n",
    "ridge=pickle.load(open('ridge_model.pkl','rb'))\n",
    "\n",
    "with open('scaler.pkl', 'rb') as scaler_file:\n",
    "    sscaler = pickle.load(scaler_file)"
   ]
  },
  {
   "cell_type": "code",
   "execution_count": 369,
   "metadata": {},
   "outputs": [],
   "source": [
    "X_test = test_df_clean.drop('price', axis=1).values\n",
    "y_test = test_df_clean['price'].values\n"
   ]
  },
  {
   "cell_type": "code",
   "execution_count": 370,
   "metadata": {},
   "outputs": [
    {
     "name": "stdout",
     "output_type": "stream",
     "text": [
      "(82, 1)\n"
     ]
    }
   ],
   "source": [
    "y_test = y_test.reshape(-1,1)\n",
    "print(y_test.shape)"
   ]
  },
  {
   "cell_type": "code",
   "execution_count": 371,
   "metadata": {},
   "outputs": [],
   "source": [
    "X_test_scaled = sscaler.transform(X_test)"
   ]
  },
  {
   "cell_type": "code",
   "execution_count": 372,
   "metadata": {},
   "outputs": [
    {
     "name": "stdout",
     "output_type": "stream",
     "text": [
      "[5606568.12876014]\n"
     ]
    }
   ],
   "source": [
    "predictions = ridge.predict(X_test_scaled)\n",
    "original_scale_prediction = 2 ** (predictions ** 2)\n",
    "print(original_scale_prediction[0])"
   ]
  },
  {
   "cell_type": "code",
   "execution_count": 373,
   "metadata": {},
   "outputs": [],
   "source": [
    "from sklearn import metrics\n",
    "import evaluation\n",
    "metrics = evaluation.evaluate_predictions(y_test,predictions)\n"
   ]
  },
  {
   "cell_type": "code",
   "execution_count": 374,
   "metadata": {},
   "outputs": [
    {
     "name": "stdout",
     "output_type": "stream",
     "text": [
      "MAE: 0.0213\n",
      "MSE: 0.0007\n",
      "RMSE: 0.0262\n",
      "R2: 0.7543\n"
     ]
    }
   ],
   "source": [
    "for metric, value in metrics.items():\n",
    "    print(f\"{metric}: {value:.4f}\")"
   ]
  },
  {
   "cell_type": "code",
   "execution_count": null,
   "metadata": {},
   "outputs": [],
   "source": []
  }
 ],
 "metadata": {
  "kernelspec": {
   "display_name": "Python 3",
   "language": "python",
   "name": "python3"
  },
  "language_info": {
   "codemirror_mode": {
    "name": "ipython",
    "version": 3
   },
   "file_extension": ".py",
   "mimetype": "text/x-python",
   "name": "python",
   "nbconvert_exporter": "python",
   "pygments_lexer": "ipython3",
   "version": "3.11.1"
  }
 },
 "nbformat": 4,
 "nbformat_minor": 2
}
